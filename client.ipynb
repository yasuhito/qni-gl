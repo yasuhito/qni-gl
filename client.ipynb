{
 "cells": [
  {
   "cell_type": "code",
   "execution_count": 15,
   "metadata": {},
   "outputs": [
    {
     "name": "stdout",
     "output_type": "stream",
     "text": [
      "b'id=%7B%22cols%22%3A%5B%5B%22H%22%2C1%5D%2C%5B1%2C1%5D%2C%5B1%2C1%5D%2C%5B1%2C1%5D%2C%5B1%2C1%5D%5D%7D&qubitCount=1&stepIndex=0&targets=0%2C1&steps=%5B%5B%7B%22type%22%3A+%22H%22%2C+%22targets%22%3A+%5B0%5D%7D%5D%2C+%5B%5D%2C+%5B%5D%2C+%5B%5D%2C+%5B%5D%5D'\n"
     ]
    }
   ],
   "source": [
    "import urllib.parse\n",
    "import json\n",
    "\n",
    "f = {\n",
    "    \"id\": '{\"cols\":[[\"H\",1],[1,1],[1,1],[1,1],[1,1]]}',\n",
    "    \"qubitCount\": 1,\n",
    "    \"stepIndex\": 0,\n",
    "    \"targets\": \"0,1\",\n",
    "    \"steps\": json.dumps([[{\"type\": \"H\", \"targets\": [0]}], [], [], [], []]),\n",
    "}\n",
    "\n",
    "data = urllib.parse.urlencode(f).encode(\"ascii\")\n",
    "print(data)"
   ]
  },
  {
   "cell_type": "code",
   "execution_count": 16,
   "metadata": {},
   "outputs": [],
   "source": [
    "auth_handler = urllib.request.HTTPBasicAuthHandler()\n",
    "auth_handler.add_password(\n",
    "    realm=\"Restricted\", uri=\"http://localhost:8000/\", user=\"userA\", passwd=\"passA\"\n",
    ")\n",
    "opener = urllib.request.build_opener(auth_handler)\n",
    "urllib.request.install_opener(opener)"
   ]
  },
  {
   "cell_type": "code",
   "execution_count": 17,
   "metadata": {},
   "outputs": [
    {
     "name": "stdout",
     "output_type": "stream",
     "text": [
      "http://localhost:8000/sim?id=%7B%22cols%22%3A%5B%5B%22H%22%2C1%5D%2C%5B1%2C1%5D%2C%5B1%2C1%5D%2C%5B1%2C1%5D%2C%5B1%2C1%5D%5D%7D&qubitCount=1&stepIndex=0&targets=0%2C1&steps=%5B%5B%7B%22type%22%3A+%22H%22%2C+%22targets%22%3A+%5B0%5D%7D%5D%2C+%5B%5D%2C+%5B%5D%2C+%5B%5D%2C+%5B%5D%5D\n"
     ]
    },
    {
     "data": {
      "text/plain": [
       "b'[{\"amplitudes\":{\"0\":[0.7071067690849304,0.0],\"1\":[0.7071067690849304,0.0]}},{},{},{},{},{}]\\n'"
      ]
     },
     "execution_count": 17,
     "metadata": {},
     "output_type": "execute_result"
    }
   ],
   "source": [
    "import urllib.request\n",
    "\n",
    "url = \"http://localhost:8000/sim?\" + data.decode(\"ascii\")\n",
    "print(url)\n",
    "urllib.request.urlopen(urllib.request.Request(url, method=\"GET\")).read()"
   ]
  },
  {
   "cell_type": "code",
   "execution_count": 7,
   "metadata": {},
   "outputs": [],
   "source": [
    "import logging\n",
    "\n",
    "logger = logging.Logger(\"myLogger\")\n",
    "logger.debug({\"type\": \"…\"})"
   ]
  },
  {
   "cell_type": "code",
   "execution_count": null,
   "metadata": {},
   "outputs": [],
   "source": []
  }
 ],
 "metadata": {
  "kernelspec": {
   "display_name": "base",
   "language": "python",
   "name": "python3"
  },
  "language_info": {
   "codemirror_mode": {
    "name": "ipython",
    "version": 3
   },
   "file_extension": ".py",
   "mimetype": "text/x-python",
   "name": "python",
   "nbconvert_exporter": "python",
   "pygments_lexer": "ipython3",
   "version": "3.9.13"
  }
 },
 "nbformat": 4,
 "nbformat_minor": 2
}
